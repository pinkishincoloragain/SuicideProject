{
 "cells": [
  {
   "cell_type": "code",
   "execution_count": 13,
   "id": "bright-classroom",
   "metadata": {},
   "outputs": [],
   "source": [
    "import pandas as pd\n",
    "from pymed import PubMed"
   ]
  },
  {
   "cell_type": "code",
   "execution_count": 19,
   "id": "authorized-fisher",
   "metadata": {},
   "outputs": [],
   "source": [
    "suicide_df = pd.DataFrame(columns=['abstract','title','date'])"
   ]
  },
  {
   "cell_type": "code",
   "execution_count": 20,
   "id": "interior-browse",
   "metadata": {},
   "outputs": [],
   "source": [
    "pubmed = PubMed(tool=\"MyTool\", email=\"my@email.address\")\n",
    "\n",
    "query = \"(zoster[Mesh] OR zoster[Supplementary concept] OR zoster[TW] OR zoster virus[Mesh] \\\n",
    "OR zoster virus[Supplementary concept] OR zoster virus[TW] OR) AND (1990/01/01[Date - Publication] : 2021/07/26[Date - Publication])\\\n",
    "AND (case reports[Filter]) AND (English[Language])\"\n",
    "\n",
    "results = pubmed.query(query, max_results=1000000)\n",
    "\n",
    "cnt = 0\n",
    "cnt2 = 0\n",
    "cnt3 = 0\n",
    "\n",
    "abstract_list = []\n",
    "title_list = []\n",
    "date_list = []\n",
    "\n",
    "for article in results:\n",
    "    cnt+=1\n",
    "    if article.abstract is not None:\n",
    "        cnt2+=1\n",
    "        if ('zoster'or 'zoster virus') in article.abstract:\n",
    "            abstract_list.append(article.abstract)\n",
    "            title_list.append(article.title)\n",
    "            date_list.append(article.publication_date)\n",
    "            cnt3+=1\n",
    "            "
   ]
  },
  {
   "cell_type": "code",
   "execution_count": 21,
   "id": "complex-alarm",
   "metadata": {},
   "outputs": [
    {
     "name": "stdout",
     "output_type": "stream",
     "text": [
      "3775 2519 2232\n"
     ]
    }
   ],
   "source": [
    "print(cnt, cnt2, cnt3)"
   ]
  },
  {
   "cell_type": "code",
   "execution_count": 22,
   "id": "cordless-prayer",
   "metadata": {},
   "outputs": [],
   "source": [
    "suicide_df['abstract'] = abstract_list\n",
    "suicide_df['title'] = title_list\n",
    "suicide_df['date'] = date_list"
   ]
  },
  {
   "cell_type": "code",
   "execution_count": 23,
   "id": "opposed-gateway",
   "metadata": {},
   "outputs": [
    {
     "data": {
      "text/html": [
       "<div>\n",
       "<style scoped>\n",
       "    .dataframe tbody tr th:only-of-type {\n",
       "        vertical-align: middle;\n",
       "    }\n",
       "\n",
       "    .dataframe tbody tr th {\n",
       "        vertical-align: top;\n",
       "    }\n",
       "\n",
       "    .dataframe thead th {\n",
       "        text-align: right;\n",
       "    }\n",
       "</style>\n",
       "<table border=\"1\" class=\"dataframe\">\n",
       "  <thead>\n",
       "    <tr style=\"text-align: right;\">\n",
       "      <th></th>\n",
       "      <th>abstract</th>\n",
       "      <th>title</th>\n",
       "      <th>date</th>\n",
       "    </tr>\n",
       "  </thead>\n",
       "  <tbody>\n",
       "    <tr>\n",
       "      <th>0</th>\n",
       "      <td>Glioblastoma multiforme (GBM) is an aggressive...</td>\n",
       "      <td>Twenty Years After Glioblastoma Multiforme Dia...</td>\n",
       "      <td>2021-08-05</td>\n",
       "    </tr>\n",
       "    <tr>\n",
       "      <th>1</th>\n",
       "      <td>In this report, the case of a 24-year-old Cauc...</td>\n",
       "      <td>A 24-Year-Old Female Transplant Recipient with...</td>\n",
       "      <td>2021-08-04</td>\n",
       "    </tr>\n",
       "    <tr>\n",
       "      <th>2</th>\n",
       "      <td>Varicella pneumonia is a potentially fatal com...</td>\n",
       "      <td>Healed Varicella Pneumonia: A Case of Diffuse ...</td>\n",
       "      <td>2021-07-31</td>\n",
       "    </tr>\n",
       "    <tr>\n",
       "      <th>3</th>\n",
       "      <td>Disseminated herpes zoster (DHZ) is a complica...</td>\n",
       "      <td>Disseminated Herpes Zoster on a Child with Sys...</td>\n",
       "      <td>2021-07-30</td>\n",
       "    </tr>\n",
       "    <tr>\n",
       "      <th>4</th>\n",
       "      <td>Central nervous system manifestations of varic...</td>\n",
       "      <td>Intracranial varicella zoster virus infection ...</td>\n",
       "      <td>2021-07-29</td>\n",
       "    </tr>\n",
       "    <tr>\n",
       "      <th>...</th>\n",
       "      <td>...</td>\n",
       "      <td>...</td>\n",
       "      <td>...</td>\n",
       "    </tr>\n",
       "    <tr>\n",
       "      <th>2227</th>\n",
       "      <td>It has long been postulated that Bell's palsy ...</td>\n",
       "      <td>Speculation into the etiologic role of viruses...</td>\n",
       "      <td>1990-02-01</td>\n",
       "    </tr>\n",
       "    <tr>\n",
       "      <th>2228</th>\n",
       "      <td>Multiple sclerosis lesions may occur predomina...</td>\n",
       "      <td>Psychiatric disorders in the encephalitic form...</td>\n",
       "      <td>1990-02-01</td>\n",
       "    </tr>\n",
       "    <tr>\n",
       "      <th>2229</th>\n",
       "      <td>A 35-year-old previously healthy woman develop...</td>\n",
       "      <td>Herpes zoster ophthalmicus with delayed contra...</td>\n",
       "      <td>1990-01-01</td>\n",
       "    </tr>\n",
       "    <tr>\n",
       "      <th>2230</th>\n",
       "      <td>A 24-year-old Japanese man presented with dysk...</td>\n",
       "      <td>Dyskeratosis congenita (Zinsser-Cole-Engman sy...</td>\n",
       "      <td>1990-01-01</td>\n",
       "    </tr>\n",
       "    <tr>\n",
       "      <th>2231</th>\n",
       "      <td>A 63-year-old male developed allergic contact ...</td>\n",
       "      <td>Contact dermatitis sparing the eruption of her...</td>\n",
       "      <td>1990-01-01</td>\n",
       "    </tr>\n",
       "  </tbody>\n",
       "</table>\n",
       "<p>2232 rows × 3 columns</p>\n",
       "</div>"
      ],
      "text/plain": [
       "                                               abstract  \\\n",
       "0     Glioblastoma multiforme (GBM) is an aggressive...   \n",
       "1     In this report, the case of a 24-year-old Cauc...   \n",
       "2     Varicella pneumonia is a potentially fatal com...   \n",
       "3     Disseminated herpes zoster (DHZ) is a complica...   \n",
       "4     Central nervous system manifestations of varic...   \n",
       "...                                                 ...   \n",
       "2227  It has long been postulated that Bell's palsy ...   \n",
       "2228  Multiple sclerosis lesions may occur predomina...   \n",
       "2229  A 35-year-old previously healthy woman develop...   \n",
       "2230  A 24-year-old Japanese man presented with dysk...   \n",
       "2231  A 63-year-old male developed allergic contact ...   \n",
       "\n",
       "                                                  title        date  \n",
       "0     Twenty Years After Glioblastoma Multiforme Dia...  2021-08-05  \n",
       "1     A 24-Year-Old Female Transplant Recipient with...  2021-08-04  \n",
       "2     Healed Varicella Pneumonia: A Case of Diffuse ...  2021-07-31  \n",
       "3     Disseminated Herpes Zoster on a Child with Sys...  2021-07-30  \n",
       "4     Intracranial varicella zoster virus infection ...  2021-07-29  \n",
       "...                                                 ...         ...  \n",
       "2227  Speculation into the etiologic role of viruses...  1990-02-01  \n",
       "2228  Psychiatric disorders in the encephalitic form...  1990-02-01  \n",
       "2229  Herpes zoster ophthalmicus with delayed contra...  1990-01-01  \n",
       "2230  Dyskeratosis congenita (Zinsser-Cole-Engman sy...  1990-01-01  \n",
       "2231  Contact dermatitis sparing the eruption of her...  1990-01-01  \n",
       "\n",
       "[2232 rows x 3 columns]"
      ]
     },
     "execution_count": 23,
     "metadata": {},
     "output_type": "execute_result"
    }
   ],
   "source": [
    "suicide_df"
   ]
  },
  {
   "cell_type": "code",
   "execution_count": null,
   "id": "homeless-trading",
   "metadata": {},
   "outputs": [],
   "source": []
  },
  {
   "cell_type": "code",
   "execution_count": null,
   "id": "employed-pattern",
   "metadata": {},
   "outputs": [],
   "source": []
  }
 ],
 "metadata": {
  "kernelspec": {
   "display_name": "daewoong",
   "language": "python",
   "name": "daewoong"
  },
  "language_info": {
   "codemirror_mode": {
    "name": "ipython",
    "version": 3
   },
   "file_extension": ".py",
   "mimetype": "text/x-python",
   "name": "python",
   "nbconvert_exporter": "python",
   "pygments_lexer": "ipython3",
   "version": "3.7.9"
  }
 },
 "nbformat": 4,
 "nbformat_minor": 5
}
